{
 "cells": [
  {
   "cell_type": "code",
   "execution_count": 2,
   "metadata": {},
   "outputs": [],
   "source": [
    "import pandas as pd\n",
    "from shapely import wkt\n",
    "import json"
   ]
  },
  {
   "cell_type": "code",
   "execution_count": 4,
   "metadata": {},
   "outputs": [
    {
     "name": "stdout",
     "output_type": "stream",
     "text": [
      "JSON file saved to: /Users/fer/Documents/PYTHON/15_GEAM_GDB_leaflet/docs/data/2_DRONE_table.js\n"
     ]
    }
   ],
   "source": [
    "# Load the Excel file\n",
    "file_path = '/Users/fer/pCloud Drive/2_STORED/0_GEODATABASE_tables/2_DRONE_table.xlsx'\n",
    "data = pd.read_excel(file_path)\n",
    "\n",
    "# Select relevant columns for conversion to JSON\n",
    "relevant_columns = ['dwc:eventID', 'dwc:eventDate', 'dwc:decimalLatitude', 'dwc:decimalLongitude', 'dwc:institutionCode', 'dwc:footprintWKT','GSD', 'contact','url']\n",
    "\n",
    "# Ensure the columns are in the correct format for Leaflet\n",
    "data_filtered = data[relevant_columns].copy()\n",
    "\n",
    "# Rename columns to match the JSON structure\n",
    "data_filtered.rename(columns={\n",
    "    'dwc:eventID' : 'eventID', \n",
    "    'dwc:eventDate' : 'eventDate',\n",
    "    'dwc:decimalLatitude': 'decimalLatitude',\n",
    "    'dwc:decimalLongitude': 'decimalLongitude',\n",
    "    'dwc:institutionCode': 'institutionCode',\n",
    "    'GSD': 'resolution'\n",
    "}, inplace=True)\n",
    "\n",
    "\n",
    "# Convert footprintWKT to list of coordinate pairs for polygons (Leaflet expects [latitude, longitude])\n",
    "def convert_wkt_to_coordinates(wkt_str):\n",
    "    geom = wkt.loads(wkt_str)\n",
    "    return [(coord[1], coord[0]) for coord in geom.exterior.coords]\n",
    "\n",
    "data_filtered['polygon'] = data_filtered['dwc:footprintWKT'].apply(convert_wkt_to_coordinates)\n",
    "\n",
    "# Drop the original footprintWKT column\n",
    "data_filtered.drop(columns=['dwc:footprintWKT'], inplace=True)\n",
    "\n",
    "# Convert the DataFrame to a JSON-like structure\n",
    "json_data = data_filtered.to_dict(orient='records')\n",
    "\n",
    "# Prepare the JavaScript variable with data\n",
    "js_variable = f\"var drone = {json.dumps(json_data, indent=4)};\"\n",
    "\n",
    "# Save to a .js file\n",
    "output_js_path = '/Users/fer/Documents/PYTHON/15_GEAM_GDB_leaflet/docs/data/2_DRONE_table.js'\n",
    "with open(output_js_path, 'w') as js_file:\n",
    "    js_file.write(js_variable)\n",
    "\n",
    "\n",
    "# Print the path to the JSON file\n",
    "print(f\"JSON file saved to: {output_js_path}\")"
   ]
  },
  {
   "cell_type": "code",
   "execution_count": null,
   "metadata": {},
   "outputs": [],
   "source": []
  }
 ],
 "metadata": {
  "kernelspec": {
   "display_name": "auv",
   "language": "python",
   "name": "python3"
  },
  "language_info": {
   "codemirror_mode": {
    "name": "ipython",
    "version": 3
   },
   "file_extension": ".py",
   "mimetype": "text/x-python",
   "name": "python",
   "nbconvert_exporter": "python",
   "pygments_lexer": "ipython3",
   "version": "3.8.18"
  }
 },
 "nbformat": 4,
 "nbformat_minor": 2
}
