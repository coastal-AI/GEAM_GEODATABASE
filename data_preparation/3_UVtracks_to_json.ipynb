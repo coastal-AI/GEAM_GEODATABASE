{
 "cells": [
  {
   "cell_type": "code",
   "execution_count": 14,
   "metadata": {},
   "outputs": [],
   "source": [
    "import pandas as pd\n",
    "from shapely import wkt\n",
    "import json"
   ]
  },
  {
   "cell_type": "code",
   "execution_count": 18,
   "metadata": {},
   "outputs": [],
   "source": [
    "# Load the Excel file\n",
    "file_path = '/Users/fer/pCloud Drive/2_STORED/0_GEODATABASE_tables/3_UNDERWATER_VIDEO_TRACKS_table.xlsx'\n",
    "data = pd.read_excel(file_path)\n",
    "\n",
    "# Select relevant columns for conversion to JSON\n",
    "relevant_columns = ['dwc:eventID', 'dwc:eventDate', 'dwc:institutionCode', 'dwc:footprintWKT', 'url', 'thumbnail_url','contact']\n",
    "\n",
    "# Ensure the columns are in the correct format for Leaflet\n",
    "data_filtered = data[relevant_columns].copy()\n",
    "\n",
    "# Rename columns to match the JSON structure\n",
    "data_filtered.rename(columns={\n",
    "    'dwc:eventID' : 'eventID', \n",
    "    'dwc:eventDate' : 'eventDate',\n",
    "    'dwc:institutionCode': 'institutionCode',\n",
    "}, inplace=True)"
   ]
  },
  {
   "cell_type": "code",
   "execution_count": 19,
   "metadata": {},
   "outputs": [
    {
     "name": "stdout",
     "output_type": "stream",
     "text": [
      "0      [[38.90339817412195, 1.4591983268647937], [38....\n",
      "1      [[38.90287655432948, 1.4604083345644492], [38....\n",
      "2      [[38.90396821979462, 1.4616800246277342], [38....\n",
      "3      [[38.90252151050522, 1.4594166627796308], [38....\n",
      "4      [[38.90101822519989, 1.4544600517407391], [38....\n",
      "                             ...                        \n",
      "482    [[38.34625, -0.407768], [38.3462446959473, -0....\n",
      "483    [[38.329886, -0.438583], [38.3299852544725, -0...\n",
      "484    [[38.298675, -0.469103], [38.29851754527193, -...\n",
      "485    [[38.208328, -0.439975], [38.20840648849637, -...\n",
      "486    [[38.15915, -0.4686], [38.159051807564204, -0....\n",
      "Name: line, Length: 487, dtype: object\n"
     ]
    }
   ],
   "source": [
    "import json\n",
    "import re\n",
    "import pandas as pd\n",
    "\n",
    "# Function to convert a single WKT string into a polyline\n",
    "def convert_wkt_to_polyline(wkt):\n",
    "    # Remove the \"LINESTRING\" part and the parentheses\n",
    "    coordinates_string = re.sub(r\"LINESTRING\\s|\\(|\\)\", \"\", wkt).strip()\n",
    "    \n",
    "    # Split the coordinates string into pairs\n",
    "    coordinates_pairs = coordinates_string.split(\",\")\n",
    "    \n",
    "    # Convert each coordinate pair into a [latitude, longitude] format\n",
    "    coordinates = []\n",
    "    for pair in coordinates_pairs:\n",
    "        lon, lat = map(float, pair.strip().split())\n",
    "        coordinates.append([lat, lon])  # Leaflet uses [latitude, longitude]\n",
    "    \n",
    "    return coordinates\n",
    "\n",
    "# Assuming data_filtered is your DataFrame and it has a column 'dwc:footprintWKT' containing the WKT strings\n",
    "data_filtered['line'] = data_filtered['dwc:footprintWKT'].apply(convert_wkt_to_polyline)\n",
    "\n",
    "print(data_filtered['line'])"
   ]
  },
  {
   "cell_type": "code",
   "execution_count": 20,
   "metadata": {},
   "outputs": [
    {
     "name": "stdout",
     "output_type": "stream",
     "text": [
      "JSON file saved to: /Users/fer/Documents/PYTHON/15_GEAM_GDB_leaflet/docs/data/3_UNDERWATER_VIDEO_TRACKS_table.js\n"
     ]
    }
   ],
   "source": [
    "# Drop the original footprintWKT column\n",
    "data_filtered.drop(columns=['dwc:footprintWKT'], inplace=True)\n",
    "\n",
    "# Convert the DataFrame to a JSON-like structure\n",
    "json_data = data_filtered.to_dict(orient='records')\n",
    "\n",
    "# Prepare the JavaScript variable with data\n",
    "js_variable = f\"var uv_tracks = {json.dumps(json_data, indent=4)};\"\n",
    "\n",
    "# Save to a .js file\n",
    "output_js_path = '/Users/fer/Documents/PYTHON/15_GEAM_GDB_leaflet/docs/data/3_UNDERWATER_VIDEO_TRACKS_table.js'\n",
    "with open(output_js_path, 'w') as js_file:\n",
    "    js_file.write(js_variable)\n",
    "\n",
    "\n",
    "# Print the path to the JSON file\n",
    "print(f\"JSON file saved to: {output_js_path}\")"
   ]
  },
  {
   "cell_type": "code",
   "execution_count": null,
   "metadata": {},
   "outputs": [],
   "source": []
  }
 ],
 "metadata": {
  "kernelspec": {
   "display_name": "auv",
   "language": "python",
   "name": "python3"
  },
  "language_info": {
   "codemirror_mode": {
    "name": "ipython",
    "version": 3
   },
   "file_extension": ".py",
   "mimetype": "text/x-python",
   "name": "python",
   "nbconvert_exporter": "python",
   "pygments_lexer": "ipython3",
   "version": "3.8.18"
  }
 },
 "nbformat": 4,
 "nbformat_minor": 2
}
