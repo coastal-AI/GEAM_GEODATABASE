{
 "cells": [
  {
   "cell_type": "code",
   "execution_count": 1,
   "metadata": {},
   "outputs": [],
   "source": [
    "import pandas as pd\n",
    "from shapely import wkt\n",
    "import json"
   ]
  },
  {
   "cell_type": "code",
   "execution_count": 2,
   "metadata": {},
   "outputs": [
    {
     "name": "stdout",
     "output_type": "stream",
     "text": [
      "JSON file saved to: /Users/fer/Documents/PYTHON/15_GEAM_GDB_leaflet/docs/data/1_GROUNDTRUTH_table.js\n"
     ]
    }
   ],
   "source": [
    "# Load the Excel file\n",
    "file_path = '/Users/fer/pCloud Drive/2_STORED/0_GEODATABASE_tables/1_GROUNDTRUTH_table.xlsx'\n",
    "data = pd.read_excel(file_path)\n",
    "# Change dwc:eventDate dtype to str\n",
    "data['dwc:eventDate'] = data['dwc:eventDate'].astype(str)\n",
    "\n",
    "# Select relevant columns for conversion to JSON\n",
    "relevant_columns = ['dwc:occurrenceID', 'dwc:eventDate', 'dwc:decimalLatitude', 'dwc:decimalLongitude', 'dwc:institutionCode', 'url', 'contact']\n",
    "\n",
    "# Ensure the columns are in the correct format for Leaflet\n",
    "data_filtered = data[relevant_columns].copy()\n",
    "\n",
    "# Rename columns to match the JSON structure\n",
    "data_filtered.rename(columns={\n",
    "    'dwc:occurrenceID' : 'occurrenceID', \n",
    "    'dwc:eventDate' : 'eventDate',\n",
    "    'dwc:decimalLatitude': 'decimalLatitude',\n",
    "    'dwc:decimalLongitude': 'decimalLongitude',\n",
    "    'dwc:institutionCode': 'institutionCode',\n",
    "}, inplace=True)\n",
    "\n",
    "\n",
    "# Convert the DataFrame to a JSON-like structure\n",
    "json_data = data_filtered.to_dict(orient='records')\n",
    "\n",
    "# Prepare the JavaScript variable with data\n",
    "js_variable = f\"var groundtruth = {json.dumps(json_data, indent=4)};\"\n",
    "\n",
    "# Save to a .js file\n",
    "output_js_path = '/Users/fer/Documents/PYTHON/15_GEAM_GDB_leaflet/docs/data/1_GROUNDTRUTH_table.js'\n",
    "with open(output_js_path, 'w') as js_file:\n",
    "    js_file.write(js_variable)\n",
    "\n",
    "\n",
    "# Print the path to the JSON file\n",
    "print(f\"JSON file saved to: {output_js_path}\")"
   ]
  },
  {
   "cell_type": "code",
   "execution_count": null,
   "metadata": {},
   "outputs": [],
   "source": []
  }
 ],
 "metadata": {
  "kernelspec": {
   "display_name": "auv",
   "language": "python",
   "name": "python3"
  },
  "language_info": {
   "codemirror_mode": {
    "name": "ipython",
    "version": 3
   },
   "file_extension": ".py",
   "mimetype": "text/x-python",
   "name": "python",
   "nbconvert_exporter": "python",
   "pygments_lexer": "ipython3",
   "version": "3.8.18"
  }
 },
 "nbformat": 4,
 "nbformat_minor": 2
}
