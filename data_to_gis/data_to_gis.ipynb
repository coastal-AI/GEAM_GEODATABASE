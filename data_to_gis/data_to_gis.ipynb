{
 "cells": [
  {
   "cell_type": "markdown",
   "metadata": {},
   "source": [
    "# SCRITP TO CONVERT TABLES TO GIS LAYERS"
   ]
  },
  {
   "cell_type": "code",
   "execution_count": 1,
   "metadata": {},
   "outputs": [],
   "source": [
    "import pandas as pd\n",
    "import geopandas as gpd\n",
    "from shapely.geometry import Point\n",
    "from shapely import wkt"
   ]
  },
  {
   "cell_type": "code",
   "execution_count": 2,
   "metadata": {},
   "outputs": [],
   "source": [
    "# read the Excel files\n",
    "groundtruth_path = '/Users/fer/Documents/PYTHON/15_GEAM_GDB_GitHub/data/1_GROUNDTRUTH_table.xlsx'\n",
    "groundtruth_df = pd.read_excel(groundtruth_path)\n",
    "\n",
    "drone_path = '/Users/fer/Documents/PYTHON/15_GEAM_GDB_GitHub/data/2_DRONE_table.xlsx'\n",
    "drone_df = pd.read_excel(drone_path)\n",
    "\n",
    "uv_path = '/Users/fer/Documents/PYTHON/15_GEAM_GDB_GitHub/data/3_UNDERWATER_VIDEO_TRACKS_table.xlsx'\n",
    "uv_df = pd.read_excel(uv_path)\n",
    "\n",
    "stations_path = '/Users/fer/Documents/PYTHON/15_GEAM_GDB_GitHub/data/5_STATIONS_table.xlsx'\n",
    "stations_df = pd.read_excel(stations_path)\n"
   ]
  },
  {
   "cell_type": "code",
   "execution_count": 3,
   "metadata": {},
   "outputs": [],
   "source": [
    "#Converto to gdf\n",
    "groundtruth_df['geometry'] = groundtruth_df.apply(lambda row: Point(row['dwc:decimalLongitude'], row['dwc:decimalLatitude']), axis=1)\n",
    "groundtruth_gdf = gpd.GeoDataFrame(groundtruth_df, geometry='geometry').set_crs(epsg=4326, inplace=True)\n",
    "groundtruth_gdf['dwc:eventDate'] = groundtruth_gdf['dwc:eventDate'].astype(str)\n",
    "\n",
    "drone_df['geometry'] = drone_df['dwc:footprintWKT'].apply(wkt.loads)\n",
    "drone_gdf = gpd.GeoDataFrame(drone_df, geometry='geometry').set_crs(epsg=4326, inplace=True)\n",
    "drone_gdf['dwc:eventDate'] = groundtruth_gdf['dwc:eventDate'].astype(str)\n",
    "\n",
    "uv_df['geometry'] = uv_df['dwc:footprintWKT'].apply(wkt.loads)\n",
    "uv_gdf = gpd.GeoDataFrame(uv_df, geometry='geometry').set_crs(epsg=4326, inplace=True)\n",
    "uv_gdf['dwc:eventDate'] = groundtruth_gdf['dwc:eventDate'].astype(str)\n",
    "\n",
    "stations_df['geometry'] = stations_df.apply(lambda row: Point(row['dwc:decimalLongitude'], row['dwc:decimalLatitude']), axis=1)\n",
    "stations_gdf = gpd.GeoDataFrame(stations_df, geometry='geometry').set_crs(epsg=4326, inplace=True)\n"
   ]
  },
  {
   "cell_type": "code",
   "execution_count": 11,
   "metadata": {},
   "outputs": [],
   "source": [
    "groundtruth_gdf.to_file('/Users/fer/pCloud Drive/2_STORED/0_GEODATABASE_to_gis/geojson/1_groundtruth.geojson', driver='GeoJSON')\n",
    "drone_gdf.to_file('/Users/fer/pCloud Drive/2_STORED/0_GEODATABASE_to_gis/geojson/2_drone.geojson', driver='GeoJSON')\n",
    "uv_gdf.to_file('/Users/fer/pCloud Drive/2_STORED/0_GEODATABASE_to_gis/geojson/3_uv.geojson', driver='GeoJSON')\n",
    "stations_gdf.to_file('/Users/fer/pCloud Drive/2_STORED/0_GEODATABASE_to_gis/geojson/4_stations.geojson', driver='GeoJSON')"
   ]
  },
  {
   "cell_type": "code",
   "execution_count": 12,
   "metadata": {},
   "outputs": [
    {
     "name": "stderr",
     "output_type": "stream",
     "text": [
      "/var/folders/5g/qx0m91qx6l1crplvpygrjqrm0000gn/T/ipykernel_11958/2057106644.py:1: UserWarning: Column names longer than 10 characters will be truncated when saved to ESRI Shapefile.\n",
      "  groundtruth_gdf.to_file('/Users/fer/pCloud Drive/2_STORED/0_GEODATABASE_to_gis/shapefile/1_groundtruth.shp', driver='ESRI Shapefile')\n",
      "/var/folders/5g/qx0m91qx6l1crplvpygrjqrm0000gn/T/ipykernel_11958/2057106644.py:2: UserWarning: Column names longer than 10 characters will be truncated when saved to ESRI Shapefile.\n",
      "  drone_gdf.to_file('/Users/fer/pCloud Drive/2_STORED/0_GEODATABASE_to_gis/shapefile/2_drone.shp', driver='ESRI Shapefile')\n",
      "/var/folders/5g/qx0m91qx6l1crplvpygrjqrm0000gn/T/ipykernel_11958/2057106644.py:3: UserWarning: Column names longer than 10 characters will be truncated when saved to ESRI Shapefile.\n",
      "  uv_gdf.to_file('/Users/fer/pCloud Drive/2_STORED/0_GEODATABASE_to_gis/shapefile/3_uv.shp', driver='ESRI Shapefile')\n",
      "/var/folders/5g/qx0m91qx6l1crplvpygrjqrm0000gn/T/ipykernel_11958/2057106644.py:4: UserWarning: Column names longer than 10 characters will be truncated when saved to ESRI Shapefile.\n",
      "  stations_gdf.to_file('/Users/fer/pCloud Drive/2_STORED/0_GEODATABASE_to_gis/shapefile/4_stations.shp', driver='ESRI Shapefile')\n"
     ]
    }
   ],
   "source": [
    "groundtruth_gdf.to_file('/Users/fer/pCloud Drive/2_STORED/0_GEODATABASE_to_gis/shapefile/1_groundtruth.shp', driver='ESRI Shapefile')\n",
    "drone_gdf.to_file('/Users/fer/pCloud Drive/2_STORED/0_GEODATABASE_to_gis/shapefile/2_drone.shp', driver='ESRI Shapefile')\n",
    "uv_gdf.to_file('/Users/fer/pCloud Drive/2_STORED/0_GEODATABASE_to_gis/shapefile/3_uv.shp', driver='ESRI Shapefile')\n",
    "stations_gdf.to_file('/Users/fer/pCloud Drive/2_STORED/0_GEODATABASE_to_gis/shapefile/4_stations.shp', driver='ESRI Shapefile')"
   ]
  },
  {
   "cell_type": "code",
   "execution_count": null,
   "metadata": {},
   "outputs": [],
   "source": []
  }
 ],
 "metadata": {
  "kernelspec": {
   "display_name": "auv",
   "language": "python",
   "name": "python3"
  },
  "language_info": {
   "codemirror_mode": {
    "name": "ipython",
    "version": 3
   },
   "file_extension": ".py",
   "mimetype": "text/x-python",
   "name": "python",
   "nbconvert_exporter": "python",
   "pygments_lexer": "ipython3",
   "version": "3.8.18"
  }
 },
 "nbformat": 4,
 "nbformat_minor": 2
}
